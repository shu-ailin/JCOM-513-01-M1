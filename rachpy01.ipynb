{
 "cells": [
  {
   "cell_type": "code",
   "execution_count": 1,
   "metadata": {},
   "outputs": [],
   "source": [
    "class Platform:\n",
    "    def __init__(self):\n",
    "        self.peopleArray = []\n",
    "        \n",
    "    def register(self, email, password, name):\n",
    "        for person in self.peopleArray:\n",
    "            if person[0] == email:\n",
    "                print(\"This email has been registered!Please choose another one!\")\n",
    "                return False\n",
    "            \n",
    "        print(\"Register Successfully!\")\n",
    "        self.peopleArray.append([email, password, name])\n",
    "        return True\n",
    "    \n",
    "    def login(self, email, password):\n",
    "        for person in self.peopleArray:\n",
    "            print(person)\n",
    "            if person[0] == email:\n",
    "                if person[1] ==password:\n",
    "                    print(\"Login Successfully!\")\n",
    "                else:\n",
    "                    print(\"Password is not correct. Please try again!\")\n",
    "            else:\n",
    "                print(\"This email does not exist. Please register one!\")"
   ]
  },
  {
   "cell_type": "code",
   "execution_count": 2,
   "metadata": {},
   "outputs": [
    {
     "name": "stdin",
     "output_type": "stream",
     "text": [
      "Email?\n",
      " email\n",
      "Password?\n",
      " 1231\n",
      "Name?\n",
      " rach\n"
     ]
    },
    {
     "name": "stdout",
     "output_type": "stream",
     "text": [
      "Register Successfully!\n",
      "['email', '1231', 'rach']\n",
      "Login Successfully!\n"
     ]
    },
    {
     "name": "stdin",
     "output_type": "stream",
     "text": [
      "Email?\n",
      " exc\n",
      "Password?\n",
      " 1\n",
      "Name?\n",
      " 1\n"
     ]
    }
   ],
   "source": [
    "platform = Platform()\n",
    "trigger = True\n",
    "while(trigger):\n",
    "    email: str = input(\"Email?\\n\") \n",
    "    password: int = input(\"Password?\\n\")\n",
    "    name: str = input(\"Name?\\n\")\n",
    "    if email ==\"exc\":\n",
    "        break\n",
    "    if platform.register(email, password, name):\n",
    "        platform.login(email, password)\n",
    "    else:\n",
    "        print(\"Woah Game Over!\")"
   ]
  },
  {
   "cell_type": "code",
   "execution_count": null,
   "metadata": {},
   "outputs": [],
   "source": []
  }
 ],
 "metadata": {
  "kernelspec": {
   "display_name": "Python 3",
   "language": "python",
   "name": "python3"
  },
  "language_info": {
   "codemirror_mode": {
    "name": "ipython",
    "version": 3
   },
   "file_extension": ".py",
   "mimetype": "text/x-python",
   "name": "python",
   "nbconvert_exporter": "python",
   "pygments_lexer": "ipython3",
   "version": "3.8.5"
  }
 },
 "nbformat": 4,
 "nbformat_minor": 4
}
